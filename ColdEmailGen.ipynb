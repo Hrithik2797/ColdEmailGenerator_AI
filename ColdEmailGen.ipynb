{
 "cells": [
  {
   "cell_type": "code",
   "execution_count": null,
   "id": "634d6227-a5ac-4db5-84b4-a4de48811e72",
   "metadata": {},
   "outputs": [],
   "source": [
    "!pip install --upgrade langchain langchain-community pdfplumber"
   ]
  },
  {
   "cell_type": "code",
   "execution_count": 37,
   "id": "16edccf4-1a7e-44b6-8689-8864a13c378d",
   "metadata": {},
   "outputs": [
    {
     "name": "stdout",
     "output_type": "stream",
     "text": [
      "Subject: Data Analyst Opportunity at Acme Corp\n",
      "Dear Jordan,\n",
      "I came across the Data Analyst position at Acme Corp and was impressed by the company's innovative approach to data-driven decision making. With 4+ years of experience in optimizing data pipelines and building scalable dashboards, I believe I would be a strong fit for this role.\n",
      "Throughout my career, I've developed a passion for leveraging data to drive business growth and improvement. My expertise in data pipeline optimization has allowed me to increase efficiency, reduce costs, and enhance the overall quality of data. Additionally, my experience in building scalable dashboards has enabled stakeholders to make data-driven decisions with ease.\n",
      "I'd love the opportunity to discuss my qualifications further and learn more about the Data Analyst role at Acme Corp. Please feel free to reach out to me directly at 734-394-9418 or connect with me on LinkedIn at https://www.linkedin.com/in/hrithik-sharma-27131214b/.\n",
      "Thank you for considering my interest in this position. I look forward to the opportunity to discuss how my skills can contribute to the success of Acme Corp.\n",
      "Best regards,\n",
      "Hrithik Sharma\n"
     ]
    }
   ],
   "source": [
    "from langchain_groq import ChatGroq\n",
    "from langchain.prompts import ChatPromptTemplate, SystemMessagePromptTemplate, HumanMessagePromptTemplate\n",
    "from langchain.chains import LLMChain\n",
    "import os\n",
    "import pdfplumber\n",
    "import re\n",
    "\n",
    "import base64\n",
    "\n",
    "encoded = 'Z3NrX09EYmc5aDRDSmtLMXB4Ulc1TWpkV0dkeWIzRllDUXZvV3Q1NzMzWlZmS2JTV1poTExJTGE='\n",
    "\n",
    "\n",
    "#Extracting text from resume\n",
    "def extract_text_from_pdf(file_path):\n",
    "    with pdfplumber.open(file_path) as pdf:\n",
    "        return \"\\n\".join([page.extract_text() or \"\" for page in pdf.pages])\n",
    "\n",
    "#Extract fields from text\n",
    "def extract_resume_data(text):\n",
    "    name = text.split('\\n')[0].strip()\n",
    "    email_match = re.search(r\"[a-zA-Z0-9_.+-]+@[a-zA-Z0-9-]+\\.[a-zA-Z0-9-.]+\", text)\n",
    "    phone_match = re.search(r\"(\\+?\\d{1,3}[-.\\s]?)?\\(?\\d{3}\\)?[-.\\s]?\\d{3}[-.\\s]?\\d{4}\", text)\n",
    "    return {\n",
    "        \"name\": name,\n",
    "        \"email\": email_match.group(0) if email_match else \"your@email.com\",\n",
    "        \"mobile_number\": phone_match.group(0) if phone_match else \"000-000-0000\",\n",
    "        \"linkedin\": \"https://www.linkedin.com/in/hrithik-sharma-27131214b/\",\n",
    "        \"total_experience\": \"4+\",\n",
    "        \"top_impact\": \"optimizing data pipelines and building scalable dashboards\"\n",
    "    }\n",
    "\n",
    "# Step 3: Load resume and parse\n",
    "resume_text = extract_text_from_pdf(\"HS_DataAnalystresume1.pdf\")\n",
    "data = extract_resume_data(resume_text)\n",
    "\n",
    "# Step 4: Define Groq prompt\n",
    "system_template = \"You are an AI assistant writing professional cold emails for job applicants.\"\n",
    "human_template = \"\"\"\n",
    "Write a polished cold email using the following data and my top skills. Do not use placeholders.\n",
    "\n",
    "Candidate Name: {name}\n",
    "Experience: {total_experience} years\n",
    "Top Impact: {top_impact}\n",
    "Phone: {mobile_number}\n",
    "LinkedIn: {linkedin}\n",
    "Recruiter: Jordan\n",
    "Company: Acme Corp\n",
    "Job Title: Data Analyst\n",
    "\n",
    "Write the email with a subject line. Format it as plain text, ready to be emailed.\n",
    "\"\"\"\n",
    "\n",
    "system_message = SystemMessagePromptTemplate.from_template(system_template)\n",
    "human_message = HumanMessagePromptTemplate.from_template(human_template)\n",
    "prompt = ChatPromptTemplate.from_messages([system_message, human_message])\n",
    "\n",
    "#Generate email using Groq\n",
    "os.environ[\"GROQ_API_KEY\"] = base64.b64decode(encoded.encode()).decode()\n",
    "llm = ChatGroq(model=\"llama-3.1-8b-instant\")\n",
    "chain = LLMChain(prompt=prompt, llm=llm)\n",
    "response = chain.invoke(data)\n",
    "\n",
    "#Clean and display\n",
    "email_raw = response[\"text\"]\n",
    "\n",
    "#remove stray \\n or extra line spacing\n",
    "email_clean = \"\\n\".join([line.strip() for line in email_raw.split(\"\\n\") if line.strip()])\n",
    "print(email_clean)\n"
   ]
  },
  {
   "cell_type": "code",
   "execution_count": null,
   "id": "6eae2a7f-7fd0-4565-9a03-a635d40bf7d8",
   "metadata": {},
   "outputs": [],
   "source": []
  }
 ],
 "metadata": {
  "kernelspec": {
   "display_name": "Python 3 (ipykernel)",
   "language": "python",
   "name": "python3"
  },
  "language_info": {
   "codemirror_mode": {
    "name": "ipython",
    "version": 3
   },
   "file_extension": ".py",
   "mimetype": "text/x-python",
   "name": "python",
   "nbconvert_exporter": "python",
   "pygments_lexer": "ipython3",
   "version": "3.12.7"
  }
 },
 "nbformat": 4,
 "nbformat_minor": 5
}
